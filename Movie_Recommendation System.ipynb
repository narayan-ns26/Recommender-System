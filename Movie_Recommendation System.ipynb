{
 "cells": [
  {
   "cell_type": "code",
   "execution_count": 1,
   "metadata": {},
   "outputs": [],
   "source": [
    "from numpy import *"
   ]
  },
  {
   "cell_type": "code",
   "execution_count": 2,
   "metadata": {},
   "outputs": [],
   "source": [
    "num_movies = 10\n",
    "num_users = 5"
   ]
  },
  {
   "cell_type": "code",
   "execution_count": 3,
   "metadata": {},
   "outputs": [
    {
     "data": {
      "text/plain": [
       "array([[ 8,  0,  2,  8,  0],\n",
       "       [ 8, 10,  1,  5,  9],\n",
       "       [ 8,  0, 10, 10,  6],\n",
       "       [ 7,  5, 10,  4,  7],\n",
       "       [ 0,  0,  6,  8,  2],\n",
       "       [ 5,  2,  4,  4,  8],\n",
       "       [ 7,  0,  6,  1,  1],\n",
       "       [ 2,  6,  8,  1,  8],\n",
       "       [ 8,  3,  7,  5,  7],\n",
       "       [ 5,  0,  9,  1,  3]])"
      ]
     },
     "execution_count": 3,
     "metadata": {},
     "output_type": "execute_result"
    }
   ],
   "source": [
    "ratings = random.randint(11, size = (num_movies, num_users))\n",
    "ratings.shape\n",
    "ratings"
   ]
  },
  {
   "cell_type": "code",
   "execution_count": 4,
   "metadata": {},
   "outputs": [
    {
     "data": {
      "text/plain": [
       "array([[ True, False,  True,  True, False],\n",
       "       [ True,  True,  True,  True,  True],\n",
       "       [ True, False,  True,  True,  True],\n",
       "       [ True,  True,  True,  True,  True],\n",
       "       [False, False,  True,  True,  True],\n",
       "       [ True,  True,  True,  True,  True],\n",
       "       [ True, False,  True,  True,  True],\n",
       "       [ True,  True,  True,  True,  True],\n",
       "       [ True,  True,  True,  True,  True],\n",
       "       [ True, False,  True,  True,  True]])"
      ]
     },
     "execution_count": 4,
     "metadata": {},
     "output_type": "execute_result"
    }
   ],
   "source": [
    "did_rate = (ratings != 0)\n",
    "did_rate.shape\n",
    "did_rate"
   ]
  },
  {
   "cell_type": "code",
   "execution_count": 5,
   "metadata": {},
   "outputs": [
    {
     "name": "stdout",
     "output_type": "stream",
     "text": [
      "[[0.]\n",
      " [0.]\n",
      " [0.]\n",
      " [0.]\n",
      " [0.]\n",
      " [0.]\n",
      " [0.]\n",
      " [0.]\n",
      " [0.]\n",
      " [0.]]\n",
      "[0.]\n",
      "[[8.]\n",
      " [0.]\n",
      " [0.]\n",
      " [0.]\n",
      " [7.]\n",
      " [0.]\n",
      " [0.]\n",
      " [3.]\n",
      " [0.]\n",
      " [0.]]\n"
     ]
    }
   ],
   "source": [
    "my_ratings = zeros((num_movies, 1))\n",
    "print (my_ratings)\n",
    "print (my_ratings[9]) \n",
    "my_ratings[0] = 8\n",
    "my_ratings[4] = 7\n",
    "my_ratings[7] = 3\n",
    "print (my_ratings)"
   ]
  },
  {
   "cell_type": "code",
   "execution_count": 6,
   "metadata": {},
   "outputs": [
    {
     "name": "stdout",
     "output_type": "stream",
     "text": [
      "[[ 8.  8.  0.  2.  8.  0.]\n",
      " [ 0.  8. 10.  1.  5.  9.]\n",
      " [ 0.  8.  0. 10. 10.  6.]\n",
      " [ 0.  7.  5. 10.  4.  7.]\n",
      " [ 7.  0.  0.  6.  8.  2.]\n",
      " [ 0.  5.  2.  4.  4.  8.]\n",
      " [ 0.  7.  0.  6.  1.  1.]\n",
      " [ 3.  2.  6.  8.  1.  8.]\n",
      " [ 0.  8.  3.  7.  5.  7.]\n",
      " [ 0.  5.  0.  9.  1.  3.]]\n"
     ]
    }
   ],
   "source": [
    "ratings = append(my_ratings, ratings, axis = 1)\n",
    "ratings.shape\n",
    "print (ratings)"
   ]
  },
  {
   "cell_type": "code",
   "execution_count": 7,
   "metadata": {},
   "outputs": [
    {
     "data": {
      "text/plain": [
       "array([[1, 1, 0, 1, 1, 0],\n",
       "       [0, 1, 1, 1, 1, 1],\n",
       "       [0, 1, 0, 1, 1, 1],\n",
       "       [0, 1, 1, 1, 1, 1],\n",
       "       [1, 0, 0, 1, 1, 1],\n",
       "       [0, 1, 1, 1, 1, 1],\n",
       "       [0, 1, 0, 1, 1, 1],\n",
       "       [1, 1, 1, 1, 1, 1],\n",
       "       [0, 1, 1, 1, 1, 1],\n",
       "       [0, 1, 0, 1, 1, 1]])"
      ]
     },
     "execution_count": 7,
     "metadata": {},
     "output_type": "execute_result"
    }
   ],
   "source": [
    "did_rate = append(((my_ratings != 0) * 1), did_rate, axis = 1)\n",
    "did_rate.shape\n",
    "did_rate"
   ]
  },
  {
   "cell_type": "code",
   "execution_count": 8,
   "metadata": {},
   "outputs": [],
   "source": [
    "\n",
    "def normalize_ratings(ratings, did_rate):\n",
    "    num_movies = ratings.shape[0]\n",
    "    \n",
    "    ratings_mean = zeros(shape = (num_movies, 1))\n",
    "    ratings_norm = zeros(shape = ratings.shape)\n",
    "    \n",
    "    for i in range(num_movies): \n",
    "        # Get all the indexes where there is a 1\n",
    "        idx = where(did_rate[i] == 1)[0]\n",
    "        idx\n",
    "        #  Calculate mean rating of ith movie only from user's that gave a rating\n",
    "        ratings_mean[i] = mean(ratings[i, idx])\n",
    "        ratings_norm[i, idx] = ratings[i, idx] - ratings_mean[i]\n",
    "    \n",
    "    return ratings_norm, ratings_mean"
   ]
  },
  {
   "cell_type": "code",
   "execution_count": 9,
   "metadata": {},
   "outputs": [
    {
     "data": {
      "text/plain": [
       "array([[ 1.5       ,  1.5       ,  0.        , -4.5       ,  1.5       ,\n",
       "         0.        ],\n",
       "       [ 0.        ,  1.4       ,  3.4       , -5.6       , -1.6       ,\n",
       "         2.4       ],\n",
       "       [ 0.        , -0.5       ,  0.        ,  1.5       ,  1.5       ,\n",
       "        -2.5       ],\n",
       "       [ 0.        ,  0.4       , -1.6       ,  3.4       , -2.6       ,\n",
       "         0.4       ],\n",
       "       [ 1.25      ,  0.        ,  0.        ,  0.25      ,  2.25      ,\n",
       "        -3.75      ],\n",
       "       [ 0.        ,  0.4       , -2.6       , -0.6       , -0.6       ,\n",
       "         3.4       ],\n",
       "       [ 0.        ,  3.25      ,  0.        ,  2.25      , -2.75      ,\n",
       "        -2.75      ],\n",
       "       [-1.66666667, -2.66666667,  1.33333333,  3.33333333, -3.66666667,\n",
       "         3.33333333],\n",
       "       [ 0.        ,  2.        , -3.        ,  1.        , -1.        ,\n",
       "         1.        ],\n",
       "       [ 0.        ,  0.5       ,  0.        ,  4.5       , -3.5       ,\n",
       "        -1.5       ]])"
      ]
     },
     "execution_count": 9,
     "metadata": {},
     "output_type": "execute_result"
    }
   ],
   "source": [
    "ratings, ratings_mean = normalize_ratings(ratings, did_rate)\n",
    "ratings"
   ]
  },
  {
   "cell_type": "code",
   "execution_count": 10,
   "metadata": {},
   "outputs": [],
   "source": [
    "num_users = ratings.shape[1]\n",
    "num_features = 3"
   ]
  },
  {
   "cell_type": "code",
   "execution_count": 11,
   "metadata": {},
   "outputs": [],
   "source": [
    "movie_features = random.randn( num_movies, num_features )\n",
    "user_prefs = random.randn( num_users, num_features )\n",
    "initial_X_and_theta = r_[movie_features.T.flatten(), user_prefs.T.flatten()]"
   ]
  },
  {
   "cell_type": "code",
   "execution_count": 12,
   "metadata": {},
   "outputs": [
    {
     "data": {
      "text/plain": [
       "array([[-0.08712863, -0.89259375, -0.846546  ],\n",
       "       [-0.53908156, -0.93183985,  0.15377259],\n",
       "       [ 0.43399413,  0.11041334, -1.03663527],\n",
       "       [-1.41146649,  0.50639712, -0.71902043],\n",
       "       [-0.98139082,  0.5269427 ,  0.30918469],\n",
       "       [-0.06398669,  1.05281112, -0.59770827],\n",
       "       [ 0.94726703, -0.58178892,  0.33811961],\n",
       "       [ 0.43729525, -0.02050452,  1.11764318],\n",
       "       [ 0.81490481, -0.39326389, -1.50948505],\n",
       "       [ 1.35156295, -1.03631201, -1.02328292]])"
      ]
     },
     "execution_count": 12,
     "metadata": {},
     "output_type": "execute_result"
    }
   ],
   "source": [
    "movie_features"
   ]
  },
  {
   "cell_type": "code",
   "execution_count": 13,
   "metadata": {},
   "outputs": [
    {
     "data": {
      "text/plain": [
       "array([[ 0.57009446,  1.91083631,  1.11115829],\n",
       "       [ 0.60034788, -1.73575556,  0.66343815],\n",
       "       [-1.76655914,  1.04966199, -0.74842914],\n",
       "       [ 1.42463001, -0.35310613,  0.50370552],\n",
       "       [-0.02084461,  0.0596257 , -0.58103699],\n",
       "       [ 0.30971683, -1.59024748, -0.0430107 ]])"
      ]
     },
     "execution_count": 13,
     "metadata": {},
     "output_type": "execute_result"
    }
   ],
   "source": [
    "user_prefs"
   ]
  },
  {
   "cell_type": "code",
   "execution_count": 14,
   "metadata": {},
   "outputs": [
    {
     "data": {
      "text/plain": [
       "array([-0.08712863, -0.53908156,  0.43399413, -1.41146649, -0.98139082,\n",
       "       -0.06398669,  0.94726703,  0.43729525,  0.81490481,  1.35156295,\n",
       "       -0.89259375, -0.93183985,  0.11041334,  0.50639712,  0.5269427 ,\n",
       "        1.05281112, -0.58178892, -0.02050452, -0.39326389, -1.03631201,\n",
       "       -0.846546  ,  0.15377259, -1.03663527, -0.71902043,  0.30918469,\n",
       "       -0.59770827,  0.33811961,  1.11764318, -1.50948505, -1.02328292,\n",
       "        0.57009446,  0.60034788, -1.76655914,  1.42463001, -0.02084461,\n",
       "        0.30971683,  1.91083631, -1.73575556,  1.04966199, -0.35310613,\n",
       "        0.0596257 , -1.59024748,  1.11115829,  0.66343815, -0.74842914,\n",
       "        0.50370552, -0.58103699, -0.0430107 ])"
      ]
     },
     "execution_count": 14,
     "metadata": {},
     "output_type": "execute_result"
    }
   ],
   "source": [
    "initial_X_and_theta\n",
    "#\"initial_X_and_theta.shape"
   ]
  },
  {
   "cell_type": "code",
   "execution_count": 15,
   "metadata": {},
   "outputs": [
    {
     "data": {
      "text/plain": [
       "(30,)"
      ]
     },
     "execution_count": 15,
     "metadata": {},
     "output_type": "execute_result"
    }
   ],
   "source": [
    "movie_features.T.flatten().shape"
   ]
  },
  {
   "cell_type": "code",
   "execution_count": 16,
   "metadata": {},
   "outputs": [
    {
     "data": {
      "text/plain": [
       "(18,)"
      ]
     },
     "execution_count": 16,
     "metadata": {},
     "output_type": "execute_result"
    }
   ],
   "source": [
    "user_prefs.T.flatten().shape"
   ]
  },
  {
   "cell_type": "code",
   "execution_count": 17,
   "metadata": {},
   "outputs": [
    {
     "data": {
      "text/plain": [
       "array([-0.08712863, -0.53908156,  0.43399413, -1.41146649, -0.98139082,\n",
       "       -0.06398669,  0.94726703,  0.43729525,  0.81490481,  1.35156295,\n",
       "       -0.89259375, -0.93183985,  0.11041334,  0.50639712,  0.5269427 ,\n",
       "        1.05281112, -0.58178892, -0.02050452, -0.39326389, -1.03631201,\n",
       "       -0.846546  ,  0.15377259, -1.03663527, -0.71902043,  0.30918469,\n",
       "       -0.59770827,  0.33811961,  1.11764318, -1.50948505, -1.02328292,\n",
       "        0.57009446,  0.60034788, -1.76655914,  1.42463001, -0.02084461,\n",
       "        0.30971683,  1.91083631, -1.73575556,  1.04966199, -0.35310613,\n",
       "        0.0596257 , -1.59024748,  1.11115829,  0.66343815, -0.74842914,\n",
       "        0.50370552, -0.58103699, -0.0430107 ])"
      ]
     },
     "execution_count": 17,
     "metadata": {},
     "output_type": "execute_result"
    }
   ],
   "source": [
    "initial_X_and_theta"
   ]
  },
  {
   "cell_type": "code",
   "execution_count": 18,
   "metadata": {},
   "outputs": [],
   "source": [
    "def unroll_params(X_and_theta, num_users, num_movies, num_features):\n",
    "\t# Retrieve the X and theta matrixes from X_and_theta, based on their dimensions (num_features, num_movies, num_movies)\n",
    "\t# --------------------------------------------------------------------------------------------------------------\n",
    "\t# Get the first 30 (10 * 3) rows in the 48 X 1 column vector\n",
    "\tfirst_30 = X_and_theta[:num_movies * num_features]\n",
    "\t# Reshape this column vector into a 10 X 3 matrix\n",
    "\tX = first_30.reshape((num_features, num_movies)).transpose()\n",
    "\t# Get the rest of the 18 the numbers, after the first 30\n",
    "\tlast_18 = X_and_theta[num_movies * num_features:]\n",
    "\t# Reshape this column vector into a 6 X 3 matrix\n",
    "\ttheta = last_18.reshape(num_features, num_users ).transpose()\n",
    "\treturn X, theta\n"
   ]
  },
  {
   "cell_type": "code",
   "execution_count": 19,
   "metadata": {},
   "outputs": [],
   "source": [
    "def calculate_gradient(X_and_theta, ratings, did_rate, num_users, num_movies, num_features, reg_param):\n",
    "\tX, theta = unroll_params(X_and_theta, num_users, num_movies, num_features)\n",
    "\t\n",
    "\t# we multiply by did_rate because we only want to consider observations for which a rating was given\n",
    "\tdifference = X.dot( theta.T ) * did_rate - ratings\n",
    "\tX_grad = difference.dot( theta ) + reg_param * X\n",
    "\ttheta_grad = difference.T.dot( X ) + reg_param * theta\n",
    "\t\n",
    "\t# wrap the gradients back into a column vector \n",
    "\treturn r_[X_grad.T.flatten(), theta_grad.T.flatten()]"
   ]
  },
  {
   "cell_type": "code",
   "execution_count": 20,
   "metadata": {},
   "outputs": [],
   "source": [
    "def calculate_cost(X_and_theta, ratings, did_rate, num_users, num_movies, num_features, reg_param):\n",
    "\tX, theta = unroll_params(X_and_theta, num_users, num_movies, num_features)\n",
    "\t\n",
    "\t# we multiply (element-wise) by did_rate because we only want to consider observations for which a rating was given\n",
    "\tcost = sum( (X.dot( theta.T ) * did_rate - ratings) ** 2 ) / 2\n",
    "\t# '**' means an element-wise power\n",
    "\tregularization = (reg_param / 2) * (sum( theta**2 ) + sum(X**2))\n",
    "\treturn cost + regularization"
   ]
  },
  {
   "cell_type": "code",
   "execution_count": 21,
   "metadata": {},
   "outputs": [],
   "source": [
    "from scipy import optimize"
   ]
  },
  {
   "cell_type": "code",
   "execution_count": 22,
   "metadata": {},
   "outputs": [],
   "source": [
    "reg_param = 30"
   ]
  },
  {
   "cell_type": "code",
   "execution_count": 23,
   "metadata": {},
   "outputs": [
    {
     "name": "stdout",
     "output_type": "stream",
     "text": [
      "Optimization terminated successfully.\n",
      "         Current function value: 140.716667\n",
      "         Iterations: 10\n",
      "         Function evaluations: 22\n",
      "         Gradient evaluations: 22\n"
     ]
    }
   ],
   "source": [
    "minimized_cost_and_optimal_params = optimize.fmin_cg(calculate_cost, fprime=calculate_gradient, x0=initial_X_and_theta, \t\t\t\t\t\t\t\targs=(ratings, did_rate, num_users, num_movies, num_features, reg_param), \t\t\t\t\t\t\t\tmaxiter=100, disp=True, full_output=True ) \n",
    "cost, optimal_movie_features_and_user_prefs = minimized_cost_and_optimal_params[1], minimized_cost_and_optimal_params[0]\n",
    "movie_features, user_prefs = unroll_params(optimal_movie_features_and_user_prefs, num_users, num_movies, num_features)"
   ]
  },
  {
   "cell_type": "code",
   "execution_count": 24,
   "metadata": {},
   "outputs": [
    {
     "data": {
      "text/plain": [
       "array([[-9.05221577e-08, -2.84962127e-08, -3.71255255e-08],\n",
       "       [-9.19052318e-08, -7.65001530e-08, -1.13006787e-08],\n",
       "       [ 2.56495201e-08,  3.98066423e-08,  6.40832113e-08],\n",
       "       [ 8.66037031e-08,  3.14079709e-08,  1.94718366e-09],\n",
       "       [ 4.72814367e-08,  1.21385583e-08, -2.01409092e-08],\n",
       "       [-4.01122043e-08, -2.73755030e-08, -3.94914530e-08],\n",
       "       [ 7.30603766e-08,  3.27948898e-08, -7.34015784e-09],\n",
       "       [ 1.28708719e-08, -2.10096267e-08,  3.62873566e-08],\n",
       "       [ 2.09721223e-08,  3.69521259e-08,  1.35494173e-08],\n",
       "       [ 4.11751651e-08,  3.98957119e-08,  6.89540928e-08]])"
      ]
     },
     "execution_count": 24,
     "metadata": {},
     "output_type": "execute_result"
    }
   ],
   "source": [
    "movie_features"
   ]
  },
  {
   "cell_type": "code",
   "execution_count": 25,
   "metadata": {},
   "outputs": [
    {
     "data": {
      "text/plain": [
       "array([[-2.42100560e-08,  7.36900450e-08, -1.96421986e-09],\n",
       "       [-4.64793560e-08, -9.45131525e-09,  9.43952872e-10],\n",
       "       [-1.91426664e-08,  1.25487687e-08, -7.63241526e-08],\n",
       "       [ 2.69226352e-07, -8.41289459e-08,  7.62847139e-08],\n",
       "       [-1.51840380e-07,  4.00052698e-08, -7.25813058e-08],\n",
       "       [-1.43379054e-08, -5.00003790e-08,  2.73964358e-08]])"
      ]
     },
     "execution_count": 25,
     "metadata": {},
     "output_type": "execute_result"
    }
   ],
   "source": [
    "user_prefs"
   ]
  },
  {
   "cell_type": "code",
   "execution_count": 26,
   "metadata": {},
   "outputs": [],
   "source": [
    "all_predictions = movie_features.dot( user_prefs.T )"
   ]
  },
  {
   "cell_type": "code",
   "execution_count": 27,
   "metadata": {},
   "outputs": [
    {
     "data": {
      "text/plain": [
       "array([[ 1.64582005e-16,  4.44169353e-15,  4.20881736e-15,\n",
       "        -2.48057040e-14,  1.52995393e-14,  1.70561249e-15],\n",
       "       [-3.39007189e-15,  4.98405573e-15,  1.66184319e-15,\n",
       "        -1.91695021e-14,  1.17147341e-14,  4.83316684e-15],\n",
       "       [ 2.18650343e-15, -1.50790677e-15, -4.88257265e-15,\n",
       "         8.44520529e-15, -6.95340057e-15, -6.02456012e-16],\n",
       "       [ 2.13949591e-16, -4.32029293e-15, -1.41231158e-15,\n",
       "         2.08222199e-14, -1.20347840e-14, -2.75878026e-15],\n",
       "       [-2.10634145e-16, -2.33134814e-15,  7.84469021e-16,\n",
       "         1.01717611e-14, -5.23177154e-15, -1.83663841e-15],\n",
       "       [-9.68613442e-16,  2.08584586e-15,  3.43847737e-15,\n",
       "        -1.15087844e-14,  7.86182920e-15,  8.61985462e-16],\n",
       "       [ 6.62278778e-16, -3.71268285e-15, -4.26803604e-16,\n",
       "         1.63508373e-14, -9.24878872e-15, -2.88838385e-15],\n",
       "       [-1.93108121e-15, -3.65407677e-16, -3.27962949e-15,\n",
       "         8.00086625e-15, -5.42859760e-15,  1.86009219e-15],\n",
       "       [ 2.18865353e-15, -1.31122692e-15, -9.71906454e-16,\n",
       "         3.57111800e-15, -2.68956966e-15, -1.77711086e-15],\n",
       "       [ 1.80762275e-15, -2.22577269e-15, -5.55042309e-15,\n",
       "         1.29891985e-14, -9.66079211e-15, -6.96069961e-16]])"
      ]
     },
     "execution_count": 27,
     "metadata": {},
     "output_type": "execute_result"
    }
   ],
   "source": [
    "all_predictions"
   ]
  },
  {
   "cell_type": "code",
   "execution_count": 28,
   "metadata": {},
   "outputs": [],
   "source": [
    "predictions_for_me = all_predictions[:, 1:2] + ratings_mean\n"
   ]
  },
  {
   "cell_type": "code",
   "execution_count": 29,
   "metadata": {
    "scrolled": true
   },
   "outputs": [
    {
     "data": {
      "text/plain": [
       "array([[6.5       ],\n",
       "       [6.6       ],\n",
       "       [8.5       ],\n",
       "       [6.6       ],\n",
       "       [5.75      ],\n",
       "       [4.6       ],\n",
       "       [3.75      ],\n",
       "       [4.66666667],\n",
       "       [6.        ],\n",
       "       [4.5       ]])"
      ]
     },
     "execution_count": 29,
     "metadata": {},
     "output_type": "execute_result"
    }
   ],
   "source": [
    "predictions_for_me"
   ]
  },
  {
   "cell_type": "code",
   "execution_count": 30,
   "metadata": {},
   "outputs": [
    {
     "data": {
      "text/plain": [
       "array([[8.],\n",
       "       [0.],\n",
       "       [0.],\n",
       "       [0.],\n",
       "       [7.],\n",
       "       [0.],\n",
       "       [0.],\n",
       "       [3.],\n",
       "       [0.],\n",
       "       [0.]])"
      ]
     },
     "execution_count": 30,
     "metadata": {},
     "output_type": "execute_result"
    }
   ],
   "source": [
    "my_ratings"
   ]
  },
  {
   "cell_type": "code",
   "execution_count": null,
   "metadata": {},
   "outputs": [],
   "source": []
  }
 ],
 "metadata": {
  "kernelspec": {
   "display_name": "Python 3",
   "language": "python",
   "name": "python3"
  },
  "language_info": {
   "codemirror_mode": {
    "name": "ipython",
    "version": 3
   },
   "file_extension": ".py",
   "mimetype": "text/x-python",
   "name": "python",
   "nbconvert_exporter": "python",
   "pygments_lexer": "ipython3",
   "version": "3.7.0"
  }
 },
 "nbformat": 4,
 "nbformat_minor": 2
}
